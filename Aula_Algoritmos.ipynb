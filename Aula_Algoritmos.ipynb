{
  "nbformat": 4,
  "nbformat_minor": 0,
  "metadata": {
    "colab": {
      "provenance": [],
      "authorship_tag": "ABX9TyPydz+CbN0/hi01w+od7elm",
      "include_colab_link": true
    },
    "kernelspec": {
      "name": "python3",
      "display_name": "Python 3"
    },
    "language_info": {
      "name": "python"
    }
  },
  "cells": [
    {
      "cell_type": "markdown",
      "metadata": {
        "id": "view-in-github",
        "colab_type": "text"
      },
      "source": [
        "<a href=\"https://colab.research.google.com/github/GandraNt/AulaAlgoritmos/blob/main/Aula_Algoritmos.ipynb\" target=\"_parent\"><img src=\"https://colab.research.google.com/assets/colab-badge.svg\" alt=\"Open In Colab\"/></a>"
      ]
    },
    {
      "cell_type": "markdown",
      "source": [
        "**Aula 1  - 20/08/24**\n",
        "\n",
        "Teste com Python"
      ],
      "metadata": {
        "id": "XyJq7wnpheHZ"
      }
    },
    {
      "cell_type": "code",
      "source": [
        "valor1 = input('Digite um valor')\n",
        "valor2 = input('Digite outro valor')\n",
        "print(valor1 + valor2)"
      ],
      "metadata": {
        "id": "QZOaBzeVit_f"
      },
      "execution_count": null,
      "outputs": []
    },
    {
      "cell_type": "code",
      "execution_count": null,
      "metadata": {
        "colab": {
          "base_uri": "https://localhost:8080/"
        },
        "id": "jRCRLafwhLy7",
        "outputId": "526980c0-2858-4cc1-c75f-fa68a8370737"
      },
      "outputs": [
        {
          "output_type": "stream",
          "name": "stdout",
          "text": [
            "Digite um valor2\n",
            "Digite outro valor7\n",
            "9.0\n"
          ]
        }
      ],
      "source": [
        "valor1 = float (input('Digite um valor'))\n",
        "valor2 = float (input('Digite outro valor'))\n",
        "print(valor1 + valor2)\n",
        "\n"
      ]
    },
    {
      "cell_type": "markdown",
      "source": [
        "**Aula 2 - 27/08/24**\n",
        "\n",
        "\n"
      ],
      "metadata": {
        "id": "CIyqFUj0YVun"
      }
    },
    {
      "cell_type": "code",
      "source": [
        "a = 2\n",
        "print(type(a))\n",
        "b = 3\n",
        "print(type(b))\n",
        "soma = a+b\n",
        "print(type(soma))\n",
        "print(soma)\n",
        "\n"
      ],
      "metadata": {
        "colab": {
          "base_uri": "https://localhost:8080/"
        },
        "id": "pGeCYESlYVYH",
        "outputId": "58a0482b-8286-465b-806d-30fa903066bf"
      },
      "execution_count": 2,
      "outputs": [
        {
          "output_type": "stream",
          "name": "stdout",
          "text": [
            "<class 'int'>\n",
            "<class 'int'>\n",
            "<class 'int'>\n",
            "5\n"
          ]
        }
      ]
    },
    {
      "cell_type": "code",
      "source": [
        "#TESTE DE DIVISÃO POR 2 COM INDICAÇÃO DO RESTO E SE O NUMERO É PAR OU IMPAR\n",
        "\n",
        "num = int(input('Digite um numero:'))\n",
        "quoc = num//2\n",
        "resto = num%2\n",
        "print(quoc)\n",
        "print(resto)\n",
        "if resto == 0:\n",
        "  print('Par')\n",
        "else:\n",
        "  print('Impar')\n"
      ],
      "metadata": {
        "colab": {
          "base_uri": "https://localhost:8080/"
        },
        "id": "b0j9cZlhh5o_",
        "outputId": "eae41e08-b245-4d23-a9d5-e972c8dcd0e6"
      },
      "execution_count": 3,
      "outputs": [
        {
          "output_type": "stream",
          "name": "stdout",
          "text": [
            "Digite um numero:9\n",
            "4\n",
            "1\n",
            "Impar\n"
          ]
        }
      ]
    },
    {
      "cell_type": "code",
      "source": [
        "#CALCULO DA MÉDIA DE 2 VALORES\n",
        "\n",
        "V1 = float(input('Digite o primeiro valor:'))\n",
        "V2 = float(input('Digite o segundo valor:'))\n",
        "media = (V1+V2)/2\n",
        "print('A média é:', media)\n"
      ],
      "metadata": {
        "colab": {
          "base_uri": "https://localhost:8080/"
        },
        "id": "3fgUluMPiv4m",
        "outputId": "4d88d4d7-fbf4-47d6-d88d-bab2477f7d55"
      },
      "execution_count": 5,
      "outputs": [
        {
          "output_type": "stream",
          "name": "stdout",
          "text": [
            "Digite o primeiro valor:10\n",
            "Digite o segundo valor:8\n",
            "A média é: 9.0\n"
          ]
        }
      ]
    },
    {
      "cell_type": "code",
      "source": [
        "#CALCULO DA AREA DO TRIANGULO\n",
        "\n",
        "base = float(input('Digite o valor da base do triangulo:'))\n",
        "altura = float(input('Digite o valor da altura do triangulo:'))\n",
        "area = (base * altura)/2\n",
        "print('A area do triangulo é:', area)"
      ],
      "metadata": {
        "colab": {
          "base_uri": "https://localhost:8080/"
        },
        "id": "MOkXsClFjzLN",
        "outputId": "4b58eb30-ac6c-4b88-808d-77e51469aec9"
      },
      "execution_count": 6,
      "outputs": [
        {
          "output_type": "stream",
          "name": "stdout",
          "text": [
            "Digite o valor da base do triangulo:5\n",
            "Digite o valor da altura do triangulo:10\n",
            "A area do triangulo é: 25.0\n"
          ]
        }
      ]
    }
  ]
}