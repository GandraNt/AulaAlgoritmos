{
  "nbformat": 4,
  "nbformat_minor": 0,
  "metadata": {
    "colab": {
      "provenance": [],
      "authorship_tag": "ABX9TyNexPAfYQNJOj7BcGidla9I",
      "include_colab_link": true
    },
    "kernelspec": {
      "name": "python3",
      "display_name": "Python 3"
    },
    "language_info": {
      "name": "python"
    }
  },
  "cells": [
    {
      "cell_type": "markdown",
      "metadata": {
        "id": "view-in-github",
        "colab_type": "text"
      },
      "source": [
        "<a href=\"https://colab.research.google.com/github/GandraNt/AulaAlgoritmos/blob/main/Aula_Algoritmos.ipynb\" target=\"_parent\"><img src=\"https://colab.research.google.com/assets/colab-badge.svg\" alt=\"Open In Colab\"/></a>"
      ]
    },
    {
      "cell_type": "markdown",
      "source": [
        "**Aula 1  - 20/08/24**\n",
        "\n",
        "Teste com Python"
      ],
      "metadata": {
        "id": "XyJq7wnpheHZ"
      }
    },
    {
      "cell_type": "code",
      "source": [
        "valor1 = input('Digite um valor')\n",
        "valor2 = input('Digite outro valor')\n",
        "print(valor1 + valor2)"
      ],
      "metadata": {
        "id": "QZOaBzeVit_f"
      },
      "execution_count": null,
      "outputs": []
    },
    {
      "cell_type": "code",
      "execution_count": null,
      "metadata": {
        "colab": {
          "base_uri": "https://localhost:8080/"
        },
        "id": "jRCRLafwhLy7",
        "outputId": "526980c0-2858-4cc1-c75f-fa68a8370737"
      },
      "outputs": [
        {
          "output_type": "stream",
          "name": "stdout",
          "text": [
            "Digite um valor2\n",
            "Digite outro valor7\n",
            "9.0\n"
          ]
        }
      ],
      "source": [
        "valor1 = float (input('Digite um valor'))\n",
        "valor2 = float (input('Digite outro valor'))\n",
        "print(valor1 + valor2)\n",
        "\n"
      ]
    },
    {
      "cell_type": "markdown",
      "source": [
        "**Aula 2 - 27/08/24**\n",
        "\n",
        "\n"
      ],
      "metadata": {
        "id": "CIyqFUj0YVun"
      }
    },
    {
      "cell_type": "code",
      "source": [],
      "metadata": {
        "id": "pGeCYESlYVYH"
      },
      "execution_count": null,
      "outputs": []
    }
  ]
}